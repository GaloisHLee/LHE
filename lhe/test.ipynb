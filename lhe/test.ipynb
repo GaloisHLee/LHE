{
 "cells": [
  {
   "cell_type": "code",
   "execution_count": 1,
   "metadata": {},
   "outputs": [],
   "source": [
    "from algebra import *\n",
    "from lhe import *\n",
    "\n",
    "sk, pk = keygen()\n",
    "ct1 = encrypt(pk, 1)\n",
    "ct2 = encrypt(pk, 2)\n",
    "ct3 = encrypt(pk, 96)\n",
    "ct4 = encrypt(pk, 200)\n",
    "# 实现同态\n",
    "ct5 = (ct1 + ct2)*(ct3 + ct4)\n",
    "pt = decrypt(sk,ct5)"
   ]
  },
  {
   "cell_type": "code",
   "execution_count": 2,
   "metadata": {},
   "outputs": [
    {
     "data": {
      "text/plain": [
       "888"
      ]
     },
     "execution_count": 2,
     "metadata": {},
     "output_type": "execute_result"
    }
   ],
   "source": [
    "int(pt)"
   ]
  },
  {
   "cell_type": "code",
   "execution_count": null,
   "metadata": {},
   "outputs": [],
   "source": []
  }
 ],
 "metadata": {
  "kernelspec": {
   "display_name": "sage10-4",
   "language": "python",
   "name": "python3"
  },
  "language_info": {
   "codemirror_mode": {
    "name": "ipython",
    "version": 3
   },
   "file_extension": ".py",
   "mimetype": "text/x-python",
   "name": "python",
   "nbconvert_exporter": "python",
   "pygments_lexer": "ipython3",
   "version": "3.9.19"
  }
 },
 "nbformat": 4,
 "nbformat_minor": 2
}
